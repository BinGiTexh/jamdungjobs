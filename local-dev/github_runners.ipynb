{
 "cells": [
  {
   "cell_type": "markdown",
   "metadata": {},
   "source": [
    "# GitHub Actions Runner Management\n",
    "\n",
    "This notebook interacts with GitHub Actions API to manage and view runners for the IMAC-community organization."
   ]
  },
  {
   "cell_type": "code",
   "execution_count": null,
   "metadata": {},
   "source": [
    "import subprocess\n",
    "import json\n",
    "import pandas as pd\n",
    "import os\n",
    "from IPython.display import display"
   ]
  },
  {
   "cell_type": "markdown",
   "metadata": {},
   "source": [
    "## Authentication\n",
    "\n",
    "First, we need to make sure we're authenticated with GitHub. You can authenticate in one of two ways:\n",
    "\n",
    "1. Using a token from an environment variable\n",
    "2. Using the gh auth login command interactively"
   ]
  },
  {
   "cell_type": "code",
   "execution_count": null,
   "metadata": {},
   "source": [
    "# Check if we're already authenticated\n",
    "auth_status = subprocess.run(['gh', 'auth', 'status'], \n",
    "                             capture_output=True, \n",
    "                             text=True)\n",
    "print(auth_status.stdout)"
   ]
  },
  {
   "cell_type": "code",
   "execution_count": null,
   "metadata": {},
   "source": [
    "# Option 1: Authenticate using a token from environment variable\n",
    "# Replace GITHUB_TOKEN with your actual token environment variable name\n",
    "\n",
    "# token = os.environ.get('GITHUB_TOKEN')\n",
    "# if token:\n",
    "#     auth_result = subprocess.run(['gh', 'auth', 'login', '--with-token'],\n",
    "#                                input=token,\n",
    "#                                text=True,\n",
    "#                                capture_output=True)\n",
    "#     print(auth_result.stdout)\n",
    "#     if auth_result.returncode != 0:\n",
    "#         print(f\"Error: {auth_result.stderr}\")\n",
    "# else:\n",
    "#     print(\"No GitHub token found in environment variables.\")"
   ]
  },
  {
   "cell_type": "markdown",
   "metadata": {},
   "source": [
    "## Get Runners Information"
   ]
  },
  {
   "cell_type": "code",
   "execution_count": null,
   "metadata": {},
   "source": [
    "# Get runners for the organization\n",
    "runners_result = subprocess.run(['gh', 'api', '/orgs/IMAC-community/actions/runners'],\n",
    "                            capture_output=True, text=True)\n",
    "\n",
    "if runners_result.returncode == 0:\n",
    "    # Convert to DataFrame and display\n",
    "    try:\n",
    "        data = json.loads(runners_result.stdout)\n",
    "        if 'runners' in data and data['runners']:\n",
    "            df = pd.DataFrame(data['runners'])[['id', 'name', 'os', 'status', 'busy']]\n",
    "            display(df)\n",
    "        else:\n",
    "            print(\"No runners found or 'runners' key missing from response.\")\n",
    "            print(f\"Full response: {data}\")\n",
    "    except json.JSONDecodeError:\n",
    "        print(f\"Failed to parse JSON response: {runners_result.stdout}\")\n",
    "else:\n",
    "    print(f\"Error getting runners: {runners_result.stderr}\")"
   ]
  },
  {
   "cell_type": "markdown",
   "metadata": {},
   "source": [
    "## Runner Details\n",
    "\n",
    "Get details for a specific runner (replace RUNNER_ID with an actual runner ID)"
   ]
  },
  {
   "cell_type": "code",
   "execution_count": null,
   "metadata": {},
   "source": [
    "# Replace with an actual runner ID from the list above\n",
    "RUNNER_ID = \"12345\"  # Update this with a real ID\n",
    "\n",
    "runner_detail_result = subprocess.run(['gh', 'api', f'/orgs/IMAC-community/actions/runners/{RUNNER_ID}'],\n",
    "                                 capture_output=True, text=True)\n",
    "\n",
    "if runner_detail_result.returncode == 0:\n",
    "    try:\n",
    "        runner_data = json.loads(runner_detail_result.stdout)\n",
    "        print(json.dumps(runner_data, indent=2))\n",
    "    except json.JSONDecodeError:\n",
    "        print(f\"Failed to parse JSON response: {runner_detail_result.stdout}\")\n",
    "else:\n",
    "    print(f\"Error getting runner details: {runner_detail_result.stderr}\")"
   ]
  }
 ],
 "metadata": {
  "kernelspec": {
   "display_name": "Python 3",
   "language": "python",
   "name": "python3"
  },
  "language_info": {
   "codemirror_mode": {
    "name": "ipython",
    "version": 3
   },
   "file_extension": ".py",
   "mimetype": "text/x-python",
   "name": "python",
   "nbconvert_exporter": "python",
   "pygments_lexer": "ipython3",
   "version": "3.9.6"
  }
 },
 "nbformat": 4,
 "nbformat_minor": 4
}

